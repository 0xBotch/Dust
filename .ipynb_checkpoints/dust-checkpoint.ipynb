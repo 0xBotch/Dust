{
 "cells": [
  {
   "cell_type": "code",
   "execution_count": 1,
   "metadata": {
    "collapsed": false
   },
   "outputs": [],
   "source": [
    "\n",
    "import sys\n",
    "from cv2 import imread\n",
    "import numpy as np\n",
    "import pandas as pd\n",
    "#from atom import Atom\n",
    "from etl import lweather\n",
    "import glob, os\n",
    "from cv2 import imread\n",
    "from sklearn.model_selection import train_test_split\n",
    "from sklearn.neighbors import KNeighborsClassifier\n",
    "from sklearn.pipeline import make_pipeline\n",
    "from sklearn.decomposition import PCA\n",
    "from skimage import io"
   ]
  },
  {
   "cell_type": "code",
   "execution_count": 2,
   "metadata": {
    "collapsed": false
   },
   "outputs": [],
   "source": [
    "images = 'images'\n",
    "weather = 'weather'"
   ]
  },
  {
   "cell_type": "code",
   "execution_count": 3,
   "metadata": {
    "collapsed": false,
    "scrolled": true
   },
   "outputs": [
    {
     "name": "stdout",
     "output_type": "stream",
     "text": [
      "Reading weather\n",
      "Merging weather with associated images paths...\n"
     ]
    },
    {
     "name": "stderr",
     "output_type": "stream",
     "text": [
      "/Users/botch/Google Drive/School/SFU/Y4S1/CMPT318/Project/Dust/etl.py:36: SettingWithCopyWarning: \n",
      "A value is trying to be set on a copy of a slice from a DataFrame.\n",
      "Try using .loc[row_indexer,col_indexer] = value instead\n",
      "\n",
      "See the caveats in the documentation: http://pandas.pydata.org/pandas-docs/stable/indexing.html#indexing-view-versus-copy\n",
      "  weather['Weather'] = pd.Series(attrs)\n"
     ]
    }
   ],
   "source": [
    "weather = lweather(weather, images)"
   ]
  },
  {
   "cell_type": "code",
   "execution_count": 4,
   "metadata": {
    "collapsed": false,
    "scrolled": true
   },
   "outputs": [
    {
     "data": {
      "text/html": [
       "<div>\n",
       "<style scoped>\n",
       "    .dataframe tbody tr th:only-of-type {\n",
       "        vertical-align: middle;\n",
       "    }\n",
       "\n",
       "    .dataframe tbody tr th {\n",
       "        vertical-align: top;\n",
       "    }\n",
       "\n",
       "    .dataframe thead th {\n",
       "        text-align: right;\n",
       "    }\n",
       "</style>\n",
       "<table border=\"1\" class=\"dataframe\">\n",
       "  <thead>\n",
       "    <tr style=\"text-align: right;\">\n",
       "      <th></th>\n",
       "      <th>Weather</th>\n",
       "      <th>Date/Time</th>\n",
       "      <th>Images</th>\n",
       "    </tr>\n",
       "  </thead>\n",
       "  <tbody>\n",
       "    <tr>\n",
       "      <th>0</th>\n",
       "      <td>Mostly Cloudy</td>\n",
       "      <td>2016-10-01 00:00:00</td>\n",
       "      <td>images/katkam-20161001000000.jpg</td>\n",
       "    </tr>\n",
       "    <tr>\n",
       "      <th>1</th>\n",
       "      <td>Mostly Cloudy</td>\n",
       "      <td>2016-10-01 01:00:00</td>\n",
       "      <td>images/katkam-20161001010000.jpg</td>\n",
       "    </tr>\n",
       "    <tr>\n",
       "      <th>2</th>\n",
       "      <td>Mostly Cloudy</td>\n",
       "      <td>2016-10-01 02:00:00</td>\n",
       "      <td>images/katkam-20161001020000.jpg</td>\n",
       "    </tr>\n",
       "    <tr>\n",
       "      <th>3</th>\n",
       "      <td>Rain</td>\n",
       "      <td>2016-10-01 03:00:00</td>\n",
       "      <td>images/katkam-20161001030000.jpg</td>\n",
       "    </tr>\n",
       "    <tr>\n",
       "      <th>4</th>\n",
       "      <td>Cloudy</td>\n",
       "      <td>2016-10-01 04:00:00</td>\n",
       "      <td>images/katkam-20161001040000.jpg</td>\n",
       "    </tr>\n",
       "    <tr>\n",
       "      <th>5</th>\n",
       "      <td>Cloudy</td>\n",
       "      <td>2016-10-01 05:00:00</td>\n",
       "      <td>images/katkam-20161001050000.jpg</td>\n",
       "    </tr>\n",
       "    <tr>\n",
       "      <th>6</th>\n",
       "      <td>Cloudy</td>\n",
       "      <td>2016-10-01 06:00:00</td>\n",
       "      <td>images/katkam-20161001060000.jpg</td>\n",
       "    </tr>\n",
       "    <tr>\n",
       "      <th>7</th>\n",
       "      <td>Cloudy</td>\n",
       "      <td>2016-10-01 07:00:00</td>\n",
       "      <td>images/katkam-20161001070000.jpg</td>\n",
       "    </tr>\n",
       "    <tr>\n",
       "      <th>8</th>\n",
       "      <td>Rain Showers</td>\n",
       "      <td>2016-10-01 08:00:00</td>\n",
       "      <td>images/katkam-20161001080000.jpg</td>\n",
       "    </tr>\n",
       "    <tr>\n",
       "      <th>9</th>\n",
       "      <td>Rain Showers</td>\n",
       "      <td>2016-10-01 09:00:00</td>\n",
       "      <td>images/katkam-20161001090000.jpg</td>\n",
       "    </tr>\n",
       "  </tbody>\n",
       "</table>\n",
       "</div>"
      ],
      "text/plain": [
       "         Weather           Date/Time                            Images\n",
       "0  Mostly Cloudy 2016-10-01 00:00:00  images/katkam-20161001000000.jpg\n",
       "1  Mostly Cloudy 2016-10-01 01:00:00  images/katkam-20161001010000.jpg\n",
       "2  Mostly Cloudy 2016-10-01 02:00:00  images/katkam-20161001020000.jpg\n",
       "3           Rain 2016-10-01 03:00:00  images/katkam-20161001030000.jpg\n",
       "4         Cloudy 2016-10-01 04:00:00  images/katkam-20161001040000.jpg\n",
       "5         Cloudy 2016-10-01 05:00:00  images/katkam-20161001050000.jpg\n",
       "6         Cloudy 2016-10-01 06:00:00  images/katkam-20161001060000.jpg\n",
       "7         Cloudy 2016-10-01 07:00:00  images/katkam-20161001070000.jpg\n",
       "8   Rain Showers 2016-10-01 08:00:00  images/katkam-20161001080000.jpg\n",
       "9   Rain Showers 2016-10-01 09:00:00  images/katkam-20161001090000.jpg"
      ]
     },
     "execution_count": 4,
     "metadata": {},
     "output_type": "execute_result"
    }
   ],
   "source": [
    "weather.head(10)"
   ]
  },
  {
   "cell_type": "code",
   "execution_count": 5,
   "metadata": {
    "collapsed": false
   },
   "outputs": [
    {
     "data": {
      "text/html": [
       "<div>\n",
       "<style scoped>\n",
       "    .dataframe tbody tr th:only-of-type {\n",
       "        vertical-align: middle;\n",
       "    }\n",
       "\n",
       "    .dataframe tbody tr th {\n",
       "        vertical-align: top;\n",
       "    }\n",
       "\n",
       "    .dataframe thead th {\n",
       "        text-align: right;\n",
       "    }\n",
       "</style>\n",
       "<table border=\"1\" class=\"dataframe\">\n",
       "  <thead>\n",
       "    <tr style=\"text-align: right;\">\n",
       "      <th></th>\n",
       "      <th>Weather</th>\n",
       "      <th>Date/Time</th>\n",
       "      <th>Images</th>\n",
       "    </tr>\n",
       "  </thead>\n",
       "  <tbody>\n",
       "  </tbody>\n",
       "</table>\n",
       "</div>"
      ],
      "text/plain": [
       "Empty DataFrame\n",
       "Columns: [Weather, Date/Time, Images]\n",
       "Index: []"
      ]
     },
     "execution_count": 5,
     "metadata": {},
     "output_type": "execute_result"
    }
   ],
   "source": [
    "weather[weather[\"Weather\"] == \"NA\"] "
   ]
  },
  {
   "cell_type": "code",
   "execution_count": 7,
   "metadata": {
    "collapsed": false,
    "scrolled": true
   },
   "outputs": [
    {
     "data": {
      "text/plain": [
       "Weather              object\n",
       "Date/Time    datetime64[ns]\n",
       "Images               object\n",
       "dtype: object"
      ]
     },
     "execution_count": 7,
     "metadata": {},
     "output_type": "execute_result"
    }
   ],
   "source": [
    "weather.dtypes"
   ]
  },
  {
   "cell_type": "code",
   "execution_count": null,
   "metadata": {
    "collapsed": false
   },
   "outputs": [],
   "source": []
  },
  {
   "cell_type": "code",
   "execution_count": 10,
   "metadata": {
    "collapsed": false,
    "scrolled": true
   },
   "outputs": [
    {
     "data": {
      "text/plain": [
       "array(['images/katkam-20161024060000.jpg',\n",
       "       'images/katkam-20170722210000.jpg',\n",
       "       'images/katkam-20171026080000.jpg', ...,\n",
       "       'images/katkam-20161110180000.jpg',\n",
       "       'images/katkam-20160710140000.jpg',\n",
       "       'images/katkam-20160719140000.jpg'], dtype=object)"
      ]
     },
     "execution_count": 10,
     "metadata": {},
     "output_type": "execute_result"
    }
   ],
   "source": [
    "X_train_paths, X_test_paths, y_train, y_test = train_test_split(weather['Images'].values, weather['Weather'])\n",
    "X_train_paths"
   ]
  },
  {
   "cell_type": "code",
   "execution_count": null,
   "metadata": {
    "collapsed": true
   },
   "outputs": [],
   "source": []
  },
  {
   "cell_type": "code",
   "execution_count": null,
   "metadata": {
    "collapsed": false,
    "scrolled": false
   },
   "outputs": [],
   "source": [
    "X_train_paths.dtypes"
   ]
  },
  {
   "cell_type": "code",
   "execution_count": null,
   "metadata": {
    "collapsed": false
   },
   "outputs": [],
   "source": [
    "X_train = np.array([np.array(io.imread(img).ravel()) for img in X_train_paths])\n",
    "model = make_pipeline(\n",
    "    PCA(50),\n",
    "    KNeighborsClassifier(n_neighbors=13)\n",
    ")\n",
    "model.fit(X_train, y_train)"
   ]
  },
  {
   "cell_type": "code",
   "execution_count": null,
   "metadata": {
    "collapsed": false
   },
   "outputs": [],
   "source": [
    "def main(images, weather):\n",
    "    '''\n",
    "    '''\n",
    "    print('Processing and cleaning data... ')\n",
    "    weather = Atom(weather)\n",
    "    \n",
    "\n",
    "if __name__=='__main__':\n",
    "#     images = sys.argv[1]\n",
    "#     weather = sys.argv[2]\n",
    "    images = 'images'\n",
    "    weather = 'weather'\n",
    "    main(images, weather)"
   ]
  },
  {
   "cell_type": "code",
   "execution_count": null,
   "metadata": {
    "collapsed": true
   },
   "outputs": [],
   "source": []
  },
  {
   "cell_type": "code",
   "execution_count": null,
   "metadata": {
    "collapsed": true
   },
   "outputs": [],
   "source": []
  }
 ],
 "metadata": {
  "kernelspec": {
   "display_name": "Python 3",
   "language": "python",
   "name": "python3"
  },
  "language_info": {
   "codemirror_mode": {
    "name": "ipython",
    "version": 3
   },
   "file_extension": ".py",
   "mimetype": "text/x-python",
   "name": "python",
   "nbconvert_exporter": "python",
   "pygments_lexer": "ipython3",
   "version": "3.6.0"
  }
 },
 "nbformat": 4,
 "nbformat_minor": 2
}
