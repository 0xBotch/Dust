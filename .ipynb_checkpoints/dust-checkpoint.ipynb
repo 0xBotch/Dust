{
 "cells": [
  {
   "cell_type": "code",
   "execution_count": 1,
   "metadata": {
    "collapsed": false
   },
   "outputs": [],
   "source": [
    "\n",
    "import sys\n",
    "from cv2 import imread\n",
    "import numpy as np\n",
    "import pandas as pd\n",
    "#from atom import Atom\n",
    "from etl import lweather\n",
    "import glob, os"
   ]
  },
  {
   "cell_type": "code",
   "execution_count": 2,
   "metadata": {
    "collapsed": false
   },
   "outputs": [],
   "source": [
    "images = 'images'\n",
    "weather = 'weather'"
   ]
  },
  {
   "cell_type": "code",
   "execution_count": 3,
   "metadata": {
    "collapsed": false,
    "scrolled": true
   },
   "outputs": [
    {
     "name": "stdout",
     "output_type": "stream",
     "text": [
      "Reading weather\n",
      "Merging weather with associated images...\n"
     ]
    }
   ],
   "source": [
    "weather = lweather(weather, images)"
   ]
  },
  {
   "cell_type": "code",
   "execution_count": 4,
   "metadata": {
    "collapsed": false,
    "scrolled": true
   },
   "outputs": [
    {
     "data": {
      "text/html": [
       "<div>\n",
       "<style scoped>\n",
       "    .dataframe tbody tr th:only-of-type {\n",
       "        vertical-align: middle;\n",
       "    }\n",
       "\n",
       "    .dataframe tbody tr th {\n",
       "        vertical-align: top;\n",
       "    }\n",
       "\n",
       "    .dataframe thead th {\n",
       "        text-align: right;\n",
       "    }\n",
       "</style>\n",
       "<table border=\"1\" class=\"dataframe\">\n",
       "  <thead>\n",
       "    <tr style=\"text-align: right;\">\n",
       "      <th></th>\n",
       "      <th>Weather</th>\n",
       "      <th>Date/Time</th>\n",
       "      <th>Images</th>\n",
       "    </tr>\n",
       "  </thead>\n",
       "  <tbody>\n",
       "    <tr>\n",
       "      <th>0</th>\n",
       "      <td>Mostly Cloudy</td>\n",
       "      <td>2016-10-01 00:00</td>\n",
       "      <td>images/katkam-20161001000000.jpg</td>\n",
       "    </tr>\n",
       "    <tr>\n",
       "      <th>1</th>\n",
       "      <td>Mostly Cloudy</td>\n",
       "      <td>2016-10-01 01:00</td>\n",
       "      <td>images/katkam-20161001010000.jpg</td>\n",
       "    </tr>\n",
       "    <tr>\n",
       "      <th>2</th>\n",
       "      <td>Mostly Cloudy</td>\n",
       "      <td>2016-10-01 02:00</td>\n",
       "      <td>images/katkam-20161001020000.jpg</td>\n",
       "    </tr>\n",
       "    <tr>\n",
       "      <th>3</th>\n",
       "      <td>Rain</td>\n",
       "      <td>2016-10-01 03:00</td>\n",
       "      <td>images/katkam-20161001030000.jpg</td>\n",
       "    </tr>\n",
       "    <tr>\n",
       "      <th>4</th>\n",
       "      <td>Cloudy</td>\n",
       "      <td>2016-10-01 04:00</td>\n",
       "      <td>images/katkam-20161001040000.jpg</td>\n",
       "    </tr>\n",
       "    <tr>\n",
       "      <th>5</th>\n",
       "      <td>Cloudy</td>\n",
       "      <td>2016-10-01 05:00</td>\n",
       "      <td>images/katkam-20161001050000.jpg</td>\n",
       "    </tr>\n",
       "    <tr>\n",
       "      <th>6</th>\n",
       "      <td>Cloudy</td>\n",
       "      <td>2016-10-01 06:00</td>\n",
       "      <td>images/katkam-20161001060000.jpg</td>\n",
       "    </tr>\n",
       "    <tr>\n",
       "      <th>7</th>\n",
       "      <td>Cloudy</td>\n",
       "      <td>2016-10-01 07:00</td>\n",
       "      <td>images/katkam-20161001070000.jpg</td>\n",
       "    </tr>\n",
       "    <tr>\n",
       "      <th>8</th>\n",
       "      <td>Rain Showers</td>\n",
       "      <td>2016-10-01 08:00</td>\n",
       "      <td>images/katkam-20161001080000.jpg</td>\n",
       "    </tr>\n",
       "    <tr>\n",
       "      <th>9</th>\n",
       "      <td>Rain Showers</td>\n",
       "      <td>2016-10-01 09:00</td>\n",
       "      <td>images/katkam-20161001090000.jpg</td>\n",
       "    </tr>\n",
       "  </tbody>\n",
       "</table>\n",
       "</div>"
      ],
      "text/plain": [
       "         Weather         Date/Time                            Images\n",
       "0  Mostly Cloudy  2016-10-01 00:00  images/katkam-20161001000000.jpg\n",
       "1  Mostly Cloudy  2016-10-01 01:00  images/katkam-20161001010000.jpg\n",
       "2  Mostly Cloudy  2016-10-01 02:00  images/katkam-20161001020000.jpg\n",
       "3           Rain  2016-10-01 03:00  images/katkam-20161001030000.jpg\n",
       "4         Cloudy  2016-10-01 04:00  images/katkam-20161001040000.jpg\n",
       "5         Cloudy  2016-10-01 05:00  images/katkam-20161001050000.jpg\n",
       "6         Cloudy  2016-10-01 06:00  images/katkam-20161001060000.jpg\n",
       "7         Cloudy  2016-10-01 07:00  images/katkam-20161001070000.jpg\n",
       "8   Rain Showers  2016-10-01 08:00  images/katkam-20161001080000.jpg\n",
       "9   Rain Showers  2016-10-01 09:00  images/katkam-20161001090000.jpg"
      ]
     },
     "execution_count": 4,
     "metadata": {},
     "output_type": "execute_result"
    }
   ],
   "source": [
    "weather.head(10)"
   ]
  },
  {
   "cell_type": "code",
   "execution_count": 9,
   "metadata": {
    "collapsed": false
   },
   "outputs": [
    {
     "data": {
      "text/plain": [
       "(13176,)"
      ]
     },
     "execution_count": 9,
     "metadata": {},
     "output_type": "execute_result"
    }
   ],
   "source": [
    "weather['Weather'].shape"
   ]
  },
  {
   "cell_type": "code",
   "execution_count": null,
   "metadata": {
    "collapsed": false
   },
   "outputs": [],
   "source": [
    "def main(images, weather):\n",
    "    '''\n",
    "    '''\n",
    "    print('Processing and cleaning data... ')\n",
    "    weather = Atom(weather)\n",
    "    \n",
    "\n",
    "if __name__=='__main__':\n",
    "#     images = sys.argv[1]\n",
    "#     weather = sys.argv[2]\n",
    "    images = 'images'\n",
    "    weather = 'weather'\n",
    "    main(images, weather)"
   ]
  },
  {
   "cell_type": "code",
   "execution_count": null,
   "metadata": {
    "collapsed": true
   },
   "outputs": [],
   "source": []
  },
  {
   "cell_type": "code",
   "execution_count": null,
   "metadata": {
    "collapsed": true
   },
   "outputs": [],
   "source": []
  }
 ],
 "metadata": {
  "kernelspec": {
   "display_name": "Python 3",
   "language": "python",
   "name": "python3"
  },
  "language_info": {
   "codemirror_mode": {
    "name": "ipython",
    "version": 3
   },
   "file_extension": ".py",
   "mimetype": "text/x-python",
   "name": "python",
   "nbconvert_exporter": "python",
   "pygments_lexer": "ipython3",
   "version": "3.6.0"
  }
 },
 "nbformat": 4,
 "nbformat_minor": 2
}
