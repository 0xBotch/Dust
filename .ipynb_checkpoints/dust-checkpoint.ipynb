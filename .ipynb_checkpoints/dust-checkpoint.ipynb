{
 "cells": [
  {
   "cell_type": "code",
   "execution_count": 1,
   "metadata": {
    "collapsed": false
   },
   "outputs": [],
   "source": [
    "\n",
    "import sys\n",
    "from cv2 import imread\n",
    "import numpy as np\n",
    "import pandas as pd\n",
    "#from atom import Atom\n",
    "from etl import lweather\n",
    "import glob, os"
   ]
  },
  {
   "cell_type": "code",
   "execution_count": 2,
   "metadata": {
    "collapsed": false
   },
   "outputs": [],
   "source": [
    "images = 'images'\n",
    "weather = 'weather'"
   ]
  },
  {
   "cell_type": "code",
   "execution_count": 3,
   "metadata": {
    "collapsed": false,
    "scrolled": true
   },
   "outputs": [
    {
     "name": "stdout",
     "output_type": "stream",
     "text": [
      "Reading weather\n",
      "Merging weather with associated images...\n"
     ]
    }
   ],
   "source": [
    "weather = lweather(weather, images)"
   ]
  },
  {
   "cell_type": "code",
   "execution_count": 4,
   "metadata": {
    "collapsed": false,
    "scrolled": true
   },
   "outputs": [
    {
     "data": {
      "text/html": [
       "<div>\n",
       "<style scoped>\n",
       "    .dataframe tbody tr th:only-of-type {\n",
       "        vertical-align: middle;\n",
       "    }\n",
       "\n",
       "    .dataframe tbody tr th {\n",
       "        vertical-align: top;\n",
       "    }\n",
       "\n",
       "    .dataframe thead th {\n",
       "        text-align: right;\n",
       "    }\n",
       "</style>\n",
       "<table border=\"1\" class=\"dataframe\">\n",
       "  <thead>\n",
       "    <tr style=\"text-align: right;\">\n",
       "      <th></th>\n",
       "      <th>Weather</th>\n",
       "      <th>Date/Time</th>\n",
       "      <th>Images</th>\n",
       "    </tr>\n",
       "  </thead>\n",
       "  <tbody>\n",
       "    <tr>\n",
       "      <th>6</th>\n",
       "      <td>Cloudy</td>\n",
       "      <td>2016-10-01 06:00</td>\n",
       "      <td>[[[2, 5, 3], [3, 6, 4], [3, 6, 4], [4, 7, 5], ...</td>\n",
       "    </tr>\n",
       "    <tr>\n",
       "      <th>7</th>\n",
       "      <td>Cloudy</td>\n",
       "      <td>2016-10-01 07:00</td>\n",
       "      <td>[[[233, 165, 128], [234, 166, 129], [236, 168,...</td>\n",
       "    </tr>\n",
       "    <tr>\n",
       "      <th>8</th>\n",
       "      <td>Rain Showers</td>\n",
       "      <td>2016-10-01 08:00</td>\n",
       "      <td>[[[161, 159, 151], [162, 160, 152], [164, 162,...</td>\n",
       "    </tr>\n",
       "    <tr>\n",
       "      <th>9</th>\n",
       "      <td>Rain Showers</td>\n",
       "      <td>2016-10-01 09:00</td>\n",
       "      <td>[[[219, 220, 218], [219, 220, 218], [219, 220,...</td>\n",
       "    </tr>\n",
       "    <tr>\n",
       "      <th>10</th>\n",
       "      <td>Mostly Cloudy</td>\n",
       "      <td>2016-10-01 10:00</td>\n",
       "      <td>[[[181, 175, 170], [182, 176, 171], [182, 176,...</td>\n",
       "    </tr>\n",
       "    <tr>\n",
       "      <th>11</th>\n",
       "      <td>Mostly Cloudy</td>\n",
       "      <td>2016-10-01 11:00</td>\n",
       "      <td>[[[216, 213, 209], [216, 213, 209], [216, 213,...</td>\n",
       "    </tr>\n",
       "    <tr>\n",
       "      <th>12</th>\n",
       "      <td>Mostly Cloudy</td>\n",
       "      <td>2016-10-01 12:00</td>\n",
       "      <td>[[[144, 141, 136], [144, 141, 136], [145, 142,...</td>\n",
       "    </tr>\n",
       "    <tr>\n",
       "      <th>13</th>\n",
       "      <td>Cloudy</td>\n",
       "      <td>2016-10-01 13:00</td>\n",
       "      <td>[[[234, 235, 233], [234, 235, 233], [235, 236,...</td>\n",
       "    </tr>\n",
       "    <tr>\n",
       "      <th>14</th>\n",
       "      <td>Rain Showers</td>\n",
       "      <td>2016-10-01 14:00</td>\n",
       "      <td>[[[213, 210, 205], [213, 210, 205], [214, 211,...</td>\n",
       "    </tr>\n",
       "    <tr>\n",
       "      <th>15</th>\n",
       "      <td>Rain Showers</td>\n",
       "      <td>2016-10-01 15:00</td>\n",
       "      <td>[[[236, 237, 233], [236, 237, 233], [236, 237,...</td>\n",
       "    </tr>\n",
       "  </tbody>\n",
       "</table>\n",
       "</div>"
      ],
      "text/plain": [
       "          Weather         Date/Time  \\\n",
       "6          Cloudy  2016-10-01 06:00   \n",
       "7          Cloudy  2016-10-01 07:00   \n",
       "8    Rain Showers  2016-10-01 08:00   \n",
       "9    Rain Showers  2016-10-01 09:00   \n",
       "10  Mostly Cloudy  2016-10-01 10:00   \n",
       "11  Mostly Cloudy  2016-10-01 11:00   \n",
       "12  Mostly Cloudy  2016-10-01 12:00   \n",
       "13         Cloudy  2016-10-01 13:00   \n",
       "14   Rain Showers  2016-10-01 14:00   \n",
       "15   Rain Showers  2016-10-01 15:00   \n",
       "\n",
       "                                               Images  \n",
       "6   [[[2, 5, 3], [3, 6, 4], [3, 6, 4], [4, 7, 5], ...  \n",
       "7   [[[233, 165, 128], [234, 166, 129], [236, 168,...  \n",
       "8   [[[161, 159, 151], [162, 160, 152], [164, 162,...  \n",
       "9   [[[219, 220, 218], [219, 220, 218], [219, 220,...  \n",
       "10  [[[181, 175, 170], [182, 176, 171], [182, 176,...  \n",
       "11  [[[216, 213, 209], [216, 213, 209], [216, 213,...  \n",
       "12  [[[144, 141, 136], [144, 141, 136], [145, 142,...  \n",
       "13  [[[234, 235, 233], [234, 235, 233], [235, 236,...  \n",
       "14  [[[213, 210, 205], [213, 210, 205], [214, 211,...  \n",
       "15  [[[236, 237, 233], [236, 237, 233], [236, 237,...  "
      ]
     },
     "execution_count": 4,
     "metadata": {},
     "output_type": "execute_result"
    }
   ],
   "source": [
    "weather.head(10)"
   ]
  },
  {
   "cell_type": "code",
   "execution_count": null,
   "metadata": {
    "collapsed": true
   },
   "outputs": [],
   "source": [
    "weather.shape"
   ]
  },
  {
   "cell_type": "code",
   "execution_count": null,
   "metadata": {
    "collapsed": false
   },
   "outputs": [],
   "source": [
    "def main(images, weather):\n",
    "    '''\n",
    "    '''\n",
    "    print('Processing and cleaning data... ')\n",
    "    weather = Atom(weather)\n",
    "    \n",
    "\n",
    "if __name__=='__main__':\n",
    "#     images = sys.argv[1]\n",
    "#     weather = sys.argv[2]\n",
    "    images = 'images'\n",
    "    weather = 'weather'\n",
    "    main(images, weather)"
   ]
  },
  {
   "cell_type": "code",
   "execution_count": null,
   "metadata": {
    "collapsed": true
   },
   "outputs": [],
   "source": []
  },
  {
   "cell_type": "code",
   "execution_count": null,
   "metadata": {
    "collapsed": true
   },
   "outputs": [],
   "source": []
  }
 ],
 "metadata": {
  "kernelspec": {
   "display_name": "Python 3",
   "language": "python",
   "name": "python3"
  },
  "language_info": {
   "codemirror_mode": {
    "name": "ipython",
    "version": 3
   },
   "file_extension": ".py",
   "mimetype": "text/x-python",
   "name": "python",
   "nbconvert_exporter": "python",
   "pygments_lexer": "ipython3",
   "version": "3.6.0"
  }
 },
 "nbformat": 4,
 "nbformat_minor": 2
}
