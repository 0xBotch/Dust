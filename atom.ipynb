{
 "cells": [
  {
   "cell_type": "code",
   "execution_count": 1,
   "metadata": {
    "collapsed": true
   },
   "outputs": [],
   "source": [
    "import numpy as np\n",
    "import pandas as pd\n",
    "from etl import lweather"
   ]
  },
  {
   "cell_type": "code",
   "execution_count": null,
   "metadata": {
    "collapsed": true
   },
   "outputs": [],
   "source": [
    "class Atom:\n",
    "\n",
    "    weather = None\n",
    "    raw_weather = None\n",
    "\n",
    "    def __init__(self, weather):\n",
    "        self.weather, self.raw_weather = lweather(weather)\n",
    "\n",
    "    def impute(self):\n",
    "        X = self.raw_weather.loc[:, 'Year':'Wind Spd (km/h)']\n",
    "        y = self.raw_weather.loc['Weather']\n",
    "\n",
    "        print(X)\n",
    "        print(y)\n",
    "\n",
    "    "
   ]
  }
 ],
 "metadata": {
  "kernelspec": {
   "display_name": "Python 3",
   "language": "python",
   "name": "python3"
  },
  "language_info": {
   "codemirror_mode": {
    "name": "ipython",
    "version": 3
   },
   "file_extension": ".py",
   "mimetype": "text/x-python",
   "name": "python",
   "nbconvert_exporter": "python",
   "pygments_lexer": "ipython3",
   "version": "3.6.0"
  }
 },
 "nbformat": 4,
 "nbformat_minor": 2
}
